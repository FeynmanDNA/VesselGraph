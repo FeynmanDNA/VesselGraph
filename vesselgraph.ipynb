{
 "cells": [
  {
   "cell_type": "markdown",
   "source": [
    "# DataLoader Example"
   ],
   "metadata": {}
  },
  {
   "cell_type": "markdown",
   "source": [
    "## 1. Pytorch-geometric dataloader"
   ],
   "metadata": {}
  },
  {
   "cell_type": "code",
   "execution_count": 3,
   "source": [
    "import os\n",
    "import os.path as osp\n",
    "import sys\n",
    "sys.path.insert(0, 'source')\n",
    "import torch\n",
    "import numpy as np\n",
    "import pandas as pd\n",
    "import scipy\n",
    "import argparse\n",
    "import networkx as nx\n",
    "import torch_geometric.transforms as T\n",
    "from pytorch_dataset.link_dataset import LinkVesselGraph\n",
    "from ogb.io import DatasetSaver\n",
    "from ogb.linkproppred import LinkPropPredDataset\n",
    "from pytorch_dataset.node_dataset import NodeVesselGraph\n",
    "from pytorch_dataset.vessap_utils import *\n",
    "\n",
    "# for multi-class labeling\n",
    "from sklearn.preprocessing import KBinsDiscretizer"
   ],
   "outputs": [],
   "metadata": {}
  },
  {
   "cell_type": "markdown",
   "source": [
    "### 1.1 Link Dataloader"
   ],
   "metadata": {}
  },
  {
   "cell_type": "code",
   "execution_count": 4,
   "source": [
    "dataset = 'BALBc_no1'\n",
    "splitting_strategy = 'random'\n",
    "\n",
    "dataset_name = 'ogbl-' + dataset + '_' + splitting_strategy # e.g. ogbl-BALBc_no1_spatial\n",
    "dataset_name +=  '_no_edge_attr' \n",
    "\n",
    "saver = DatasetSaver(dataset_name = dataset_name,\n",
    "                    is_hetero = False,\n",
    "                    version = 1)\n",
    "\n",
    "link_dataset = LinkVesselGraph(root='/home/supro/projects/VesselGraph/source/ogb_dataset/link_prediction/data/random/', \n",
    "                          name=dataset,\n",
    "                          splitting_strategy=splitting_strategy,\n",
    "                          number_of_workers = 2,\n",
    "                          val_ratio = 0.1,\n",
    "                          test_ratio = 0.1,\n",
    "                          seed=123,\n",
    "                          )"
   ],
   "outputs": [
    {
     "output_type": "stream",
     "name": "stdout",
     "text": [
      "Removed existing submission directory\n",
      "Available Datasets are: dict_keys(['synthetic', 'BALBc_no1', 'BALBc_no2', 'BALBc_no3', 'C57BL_6_no1', 'C57BL_6_no2', 'C57BL_6_no3', 'CD1-E_no1', 'CD1-E_no2', 'CD1-E_no3', 'link_vessap_roi1', 'link_vessap_roi3'])\n"
     ]
    }
   ],
   "metadata": {}
  },
  {
   "cell_type": "code",
   "execution_count": 5,
   "source": [
    "data = link_dataset[0]\n",
    "print(f'Dataset: {link_dataset}:')\n",
    "print('======================')\n",
    "print(f'Number of graphs: {len(link_dataset)}')\n",
    "print(f'Number of features: {link_dataset.num_features}')\n",
    "print(f'Number of nodes: {data.num_nodes}')\n",
    "print(f'Number of edges: {data.num_edges}')\n",
    "print(f'Average node degree: {data.num_edges / data.num_nodes:.2f}')\n",
    "print(f'Contains isolated nodes: {data.contains_isolated_nodes()}')\n",
    "print(f'Contains self-loops: {data.contains_self_loops()}')\n",
    "print(f'Is directed: {data.is_directed()}')"
   ],
   "outputs": [
    {
     "output_type": "stream",
     "name": "stdout",
     "text": [
      "Dataset: LinkVesselGraph():\n",
      "======================\n",
      "Number of graphs: 1\n",
      "Number of features: 5\n",
      "Number of nodes: 3538495\n",
      "Number of edges: 8553438\n",
      "Average node degree: 2.42\n",
      "Contains isolated nodes: True\n",
      "Contains self-loops: False\n",
      "Is directed: False\n"
     ]
    }
   ],
   "metadata": {}
  },
  {
   "cell_type": "markdown",
   "source": [
    "### 1.2 Node Dataloader"
   ],
   "metadata": {}
  },
  {
   "cell_type": "code",
   "execution_count": 6,
   "source": [
    "dataset_name = 'ogbn-' + dataset # e.g. ogbl-italo\n",
    "\n",
    "dataset = NodeVesselGraph(root='data', name=dataset, pre_transform=T.LineGraph(force_directed=False))"
   ],
   "outputs": [
    {
     "output_type": "stream",
     "name": "stdout",
     "text": [
      "Downloading https://syncandshare.lrz.de/dl/fiG21AiiCJE6mVRo6tUsNp4N/BALBc_no1.zip\n",
      "Extracting data/BALBc_no1/raw/BALBc_no1.zip\n",
      "Processing...\n",
      "data/BALBc_no1/raw/BALBc_no1/BALBc-no1_iso3um_stitched_segmentation_bulge_size_3.0/BALBc-no1_iso3um_stitched_segmentation_bulge_size_3.0_nodes_processed.csv\n",
      "data/BALBc_no1/raw/BALBc_no1/BALBc-no1_iso3um_stitched_segmentation_bulge_size_3.0/BALBc-no1_iso3um_stitched_segmentation_bulge_size_3.0_edges_processed.csv\n"
     ]
    }
   ],
   "metadata": {}
  },
  {
   "cell_type": "code",
   "execution_count": null,
   "source": [],
   "outputs": [],
   "metadata": {}
  }
 ],
 "metadata": {
  "orig_nbformat": 4,
  "language_info": {
   "name": "python",
   "version": "3.6.9",
   "mimetype": "text/x-python",
   "codemirror_mode": {
    "name": "ipython",
    "version": 3
   },
   "pygments_lexer": "ipython3",
   "nbconvert_exporter": "python",
   "file_extension": ".py"
  },
  "kernelspec": {
   "name": "python3",
   "display_name": "Python 3.6.9 64-bit ('deepro': venv)"
  },
  "interpreter": {
   "hash": "7195a11fd9c3c4c2fabc5aa224f6df5875deefb59ca20d85ed3eb108a9856952"
  }
 },
 "nbformat": 4,
 "nbformat_minor": 2
}